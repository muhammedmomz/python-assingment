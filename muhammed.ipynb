{
  "nbformat": 4,
  "nbformat_minor": 0,
  "metadata": {
    "colab": {
      "provenance": []
    },
    "kernelspec": {
      "name": "python3",
      "display_name": "Python 3"
    },
    "language_info": {
      "name": "python"
    }
  },
  "cells": [
    {
      "cell_type": "code",
      "execution_count": 28,
      "metadata": {
        "colab": {
          "base_uri": "https://localhost:8080/",
          "height": 53
        },
        "id": "2N0kwBXGKB-I",
        "outputId": "836937c4-8482-464d-a5c5-f49ffff63ee9"
      },
      "outputs": [
        {
          "output_type": "execute_result",
          "data": {
            "text/plain": [
              "'1.Write a Python function to accept a string value from the user and display the\\ncount of each character in that string. Sample input: Enter a string value:\\nassembly Sample output: a=1, s=2, e=1, m=1, b=1, l=1, y=1 '"
            ],
            "application/vnd.google.colaboratory.intrinsic+json": {
              "type": "string"
            }
          },
          "metadata": {},
          "execution_count": 28
        }
      ],
      "source": [
        "'''1.Write a Python function to accept a string value from the user and display the\n",
        "count of each character in that string. Sample input: Enter a string value:\n",
        "assembly Sample output: a=1, s=2, e=1, m=1, b=1, l=1, y=1 '''"
      ]
    },
    {
      "cell_type": "code",
      "source": [
        "def count_char(string):\n",
        "  counts = {}\n",
        "  for char in string:\n",
        "    if char not in counts:\n",
        "      counts[char] = 0\n",
        "    counts[char] += 1\n",
        "  return counts\n",
        "user_string = input(\"Enter a string value: \")\n",
        "char_counts = count_char(user_string)\n",
        "for char, count in char_counts.items():\n",
        " Print(f\"{char}={count}\")\n"
      ],
      "metadata": {
        "colab": {
          "base_uri": "https://localhost:8080/",
          "height": 193
        },
        "id": "mHpDtM4yNIQb",
        "outputId": "3c11c86d-f308-4f75-cf82-29a1b84f1258"
      },
      "execution_count": 59,
      "outputs": [
        {
          "name": "stdout",
          "output_type": "stream",
          "text": [
            "Enter a string value: muhammed\n"
          ]
        },
        {
          "output_type": "error",
          "ename": "NameError",
          "evalue": "name 'Print' is not defined",
          "traceback": [
            "\u001b[0;31m---------------------------------------------------------------------------\u001b[0m",
            "\u001b[0;31mNameError\u001b[0m                                 Traceback (most recent call last)",
            "\u001b[0;32m<ipython-input-59-882cea04459e>\u001b[0m in \u001b[0;36m<cell line: 10>\u001b[0;34m()\u001b[0m\n\u001b[1;32m      9\u001b[0m \u001b[0mchar_counts\u001b[0m \u001b[0;34m=\u001b[0m \u001b[0mcount_char\u001b[0m\u001b[0;34m(\u001b[0m\u001b[0muser_string\u001b[0m\u001b[0;34m)\u001b[0m\u001b[0;34m\u001b[0m\u001b[0;34m\u001b[0m\u001b[0m\n\u001b[1;32m     10\u001b[0m \u001b[0;32mfor\u001b[0m \u001b[0mchar\u001b[0m\u001b[0;34m,\u001b[0m \u001b[0mcount\u001b[0m \u001b[0;32min\u001b[0m \u001b[0mchar_counts\u001b[0m\u001b[0;34m.\u001b[0m\u001b[0mitems\u001b[0m\u001b[0;34m(\u001b[0m\u001b[0;34m)\u001b[0m\u001b[0;34m:\u001b[0m\u001b[0;34m\u001b[0m\u001b[0;34m\u001b[0m\u001b[0m\n\u001b[0;32m---> 11\u001b[0;31m  \u001b[0mPrint\u001b[0m\u001b[0;34m(\u001b[0m\u001b[0;34mf\"{char}={count}\"\u001b[0m\u001b[0;34m)\u001b[0m\u001b[0;34m\u001b[0m\u001b[0;34m\u001b[0m\u001b[0m\n\u001b[0m",
            "\u001b[0;31mNameError\u001b[0m: name 'Print' is not defined"
          ]
        }
      ]
    },
    {
      "cell_type": "code",
      "source": [
        "'''2.Write a Python function to find the maximum of three numbers Sample input:\n",
        "34,12,7 Sample output: 34'''"
      ],
      "metadata": {
        "colab": {
          "base_uri": "https://localhost:8080/",
          "height": 36
        },
        "id": "RSr1HAgGXry6",
        "outputId": "3bbe0a88-df1b-44d6-df64-9ca2cd1540fd"
      },
      "execution_count": 57,
      "outputs": [
        {
          "output_type": "execute_result",
          "data": {
            "text/plain": [
              "'2.Write a Python function to find the maximum of three numbers Sample input:\\n34,12,7 Sample output: 34'"
            ],
            "application/vnd.google.colaboratory.intrinsic+json": {
              "type": "string"
            }
          },
          "metadata": {},
          "execution_count": 57
        }
      ]
    },
    {
      "cell_type": "code",
      "source": [
        "def maximum(x,y,z):\n",
        "  if a > b:\n",
        "    if a > c:\n",
        "      return a\n",
        "    else:\n",
        "      return c\n",
        "  else:\n",
        "    if b > c:\n",
        "     return b\n",
        "    else:\n",
        "      return c\n",
        "x=int(input('enter the first number'))\n",
        "y=int(input('enter the second number'))\n",
        "z=int(input('enter the third number'))\n",
        "print (max(x,y,z))"
      ],
      "metadata": {
        "colab": {
          "base_uri": "https://localhost:8080/"
        },
        "id": "S2dqpqJ8YBRO",
        "outputId": "4502b76d-9826-4d17-f999-e69b4f1d5c1c"
      },
      "execution_count": 15,
      "outputs": [
        {
          "output_type": "stream",
          "name": "stdout",
          "text": [
            "enter the first number12\n",
            "enter the second number23\n",
            "enter the third number34\n",
            "34\n"
          ]
        }
      ]
    },
    {
      "cell_type": "code",
      "source": [
        "'''3. Write a Python function called exponent(base,exp) that returns an integer\n",
        "value of base raises to the power of exp. Sample input: Enter the base: 2\n",
        "Enter the exponent: 3 Sample output: 8 '''"
      ],
      "metadata": {
        "colab": {
          "base_uri": "https://localhost:8080/",
          "height": 53
        },
        "id": "6JiRq-AfbhAx",
        "outputId": "aa1e286c-2f6e-49b7-ea0d-6067db396a08"
      },
      "execution_count": 30,
      "outputs": [
        {
          "output_type": "execute_result",
          "data": {
            "text/plain": [
              "'3. Write a Python function called exponent(base,exp) that returns an integer\\nvalue of base raises to the power of exp. Sample input: Enter the base: 2\\nEnter the exponent: 3 Sample output: 8 '"
            ],
            "application/vnd.google.colaboratory.intrinsic+json": {
              "type": "string"
            }
          },
          "metadata": {},
          "execution_count": 30
        }
      ]
    },
    {
      "cell_type": "code",
      "source": [
        "def power(base,exp):\n",
        "    if(exp==1):\n",
        "        return(base)\n",
        "    if(exp!=1):\n",
        "        return(base*power(base,exp-1))\n",
        "base=int(input(\"Enter base: \"))\n",
        "exp=int(input(\"Enter exponential value: \"))\n",
        "print(\"Result:\",power(base,exp))"
      ],
      "metadata": {
        "colab": {
          "base_uri": "https://localhost:8080/"
        },
        "id": "U4TqVnYKg155",
        "outputId": "f84abebd-7078-49f0-ec9b-aa33453d1d10"
      },
      "execution_count": 17,
      "outputs": [
        {
          "output_type": "stream",
          "name": "stdout",
          "text": [
            "Enter base: 2\n",
            "Enter exponential value: 5\n",
            "Result: 32\n"
          ]
        }
      ]
    },
    {
      "cell_type": "code",
      "source": [
        "'''4.Write a Python function that takes a positive integer and returns the sum of\n",
        "the cube of all the positive integers smaller than the specified number.\n",
        "Sample input: 4 Sample output: 36.'''"
      ],
      "metadata": {
        "colab": {
          "base_uri": "https://localhost:8080/",
          "height": 53
        },
        "id": "87XnruXbg7WK",
        "outputId": "a5880372-3d0d-46fa-b6bd-bbdd2e71c44d"
      },
      "execution_count": 31,
      "outputs": [
        {
          "output_type": "execute_result",
          "data": {
            "text/plain": [
              "'4.Write a Python function that takes a positive integer and returns the sum of\\nthe cube of all the positive integers smaller than the specified number.\\nSample input: 4 Sample output: 36.'"
            ],
            "application/vnd.google.colaboratory.intrinsic+json": {
              "type": "string"
            }
          },
          "metadata": {},
          "execution_count": 31
        }
      ]
    },
    {
      "cell_type": "code",
      "source": [
        "def sum_square(n):\n",
        "    result = 0\n",
        "    if n > 0:\n",
        "        for i in range(n):\n",
        "            result += i * i\n",
        "        return result\n",
        "    elif n <= 4:\n",
        "        raise ValueError(\"n should be positive\")"
      ],
      "metadata": {
        "id": "4U9W5IRCg-oX"
      },
      "execution_count": 19,
      "outputs": []
    },
    {
      "cell_type": "code",
      "source": [
        "'''5.Write a Python program which iterates from 1 to 10. For multiples of 2, print\n",
        "“Fizz” instead of the number and for the multiples of 5, print “Buzz”. For\n",
        "numbers which are multiples of both 2 and 5, print “FizzBuzz”.'''"
      ],
      "metadata": {
        "colab": {
          "base_uri": "https://localhost:8080/",
          "height": 53
        },
        "id": "QnQuKnG1hFT3",
        "outputId": "0457c3d8-4423-4bfd-b1a0-1252a028826d"
      },
      "execution_count": 32,
      "outputs": [
        {
          "output_type": "execute_result",
          "data": {
            "text/plain": [
              "'5.Write a Python program which iterates from 1 to 10. For multiples of 2, print\\n“Fizz” instead of the number and for the multiples of 5, print “Buzz”. For\\nnumbers which are multiples of both 2 and 5, print “FizzBuzz”.'"
            ],
            "application/vnd.google.colaboratory.intrinsic+json": {
              "type": "string"
            }
          },
          "metadata": {},
          "execution_count": 32
        }
      ]
    },
    {
      "cell_type": "code",
      "source": [
        "def fizz_buzz(num):\n",
        "    if num%3==5and num%5==2:\n",
        "        return 'FizzBuzz'\n",
        "\n",
        "    elif num % 3 == 0:\n",
        "        return 'Fizz'\n",
        "\n",
        "    elif num % 5==0:\n",
        "        return 'Buzz'\n",
        "    else:\n",
        "        return num\n",
        "\n",
        "for n in range(1,10):\n",
        "    print(fizz_buzz(n))"
      ],
      "metadata": {
        "colab": {
          "base_uri": "https://localhost:8080/"
        },
        "id": "gboXTNDlhG2a",
        "outputId": "2acbfa18-9758-4884-c854-b1b2fdb3f27b"
      },
      "execution_count": 25,
      "outputs": [
        {
          "output_type": "stream",
          "name": "stdout",
          "text": [
            "1\n",
            "2\n",
            "Fizz\n",
            "4\n",
            "Buzz\n",
            "Fizz\n",
            "7\n",
            "8\n",
            "Fizz\n"
          ]
        }
      ]
    },
    {
      "cell_type": "code",
      "source": [
        "'''10.Write a Python function to calculate the factorial of a number (a nonnegative\n",
        "\n",
        "integer). The function accepts the number as an argument. Sample input: 3\n",
        "Sample output: 6 '''"
      ],
      "metadata": {
        "colab": {
          "base_uri": "https://localhost:8080/",
          "height": 53
        },
        "id": "CW-G4jRChSXy",
        "outputId": "a3f32b71-90cb-4de7-ef82-c6e375ceb4ce"
      },
      "execution_count": 26,
      "outputs": [
        {
          "output_type": "execute_result",
          "data": {
            "text/plain": [
              "'10.Write a Python function to calculate the factorial of a number (a nonnegative\\ninteger). The function accepts the number as an argument. Sample input: 3\\nSample output: 6 '"
            ],
            "application/vnd.google.colaboratory.intrinsic+json": {
              "type": "string"
            }
          },
          "metadata": {},
          "execution_count": 26
        }
      ]
    },
    {
      "cell_type": "code",
      "source": [
        "def factorial(n):\n",
        "  if n == 0:\n",
        "    return 1\n",
        "  else:\n",
        "    return n * factorial(n-1)\n",
        "number = int(input(\"ENTER AN NON NEGATIVE INTIGER: \"))\n",
        "print(f\"THE FACTORIAL OF {number} IS: {factorial(number)}\")"
      ],
      "metadata": {
        "colab": {
          "base_uri": "https://localhost:8080/"
        },
        "id": "UW_YV2MosjHA",
        "outputId": "06fa8d45-0bbb-4266-f0df-9808637b61c0"
      },
      "execution_count": 27,
      "outputs": [
        {
          "output_type": "stream",
          "name": "stdout",
          "text": [
            "ENTER AN NON NEGATIVE INTIGER: 34\n",
            "THE FACTORIAL OF 34 IS: 295232799039604140847618609643520000000\n"
          ]
        }
      ]
    },
    {
      "cell_type": "code",
      "source": [
        "'''6.Write a Python function to find the most frequent item in a list of numbers.\n",
        "Sample input: 2, 3, 4, 2, 5, 2 Sample output: 2'''"
      ],
      "metadata": {
        "colab": {
          "base_uri": "https://localhost:8080/",
          "height": 53
        },
        "id": "qHSqblXCty8R",
        "outputId": "b349d313-f6d2-462f-df97-b08e5cacdc6a"
      },
      "execution_count": 33,
      "outputs": [
        {
          "output_type": "execute_result",
          "data": {
            "text/plain": [
              "'6.Write a Python function to find the most frequent item in a list of numbers.\\nSample input: 2, 3, 4, 2, 5, 2 Sample output: 2'"
            ],
            "application/vnd.google.colaboratory.intrinsic+json": {
              "type": "string"
            }
          },
          "metadata": {},
          "execution_count": 33
        }
      ]
    },
    {
      "cell_type": "code",
      "source": [
        "def most_frequent(nums):\n",
        "  counts {}"
      ],
      "metadata": {
        "colab": {
          "base_uri": "https://localhost:8080/"
        },
        "id": "6z3ah6IHvKgW",
        "outputId": "839bce86-9a04-44de-b67c-b5cf1b4754e9"
      },
      "execution_count": 38,
      "outputs": [
        {
          "output_type": "stream",
          "name": "stdout",
          "text": [
            "The most frequent item is: 2\n"
          ]
        }
      ]
    },
    {
      "cell_type": "code",
      "source": [
        "'''7. Write a Python function to find the sum of squares of the numbers in a list.\n",
        "Sample input: 2,1,3,1 Sample output: 15 '''"
      ],
      "metadata": {
        "colab": {
          "base_uri": "https://localhost:8080/",
          "height": 36
        },
        "id": "5uWMO1VryyVE",
        "outputId": "be62afaf-8471-4d0b-f9ac-da518b9bfb62"
      },
      "execution_count": 44,
      "outputs": [
        {
          "output_type": "execute_result",
          "data": {
            "text/plain": [
              "'7. Write a Python function to find the sum of squares of the numbers in a list.\\nSample input: 2,1,3,1 Sample output: 15 '"
            ],
            "application/vnd.google.colaboratory.intrinsic+json": {
              "type": "string"
            }
          },
          "metadata": {},
          "execution_count": 44
        }
      ]
    },
    {
      "cell_type": "code",
      "source": [
        "def sum_of_squares(numbers):\n",
        "\n",
        "  sum_of_squares = 0\n",
        "  for number in numbers:\n",
        "    sum_of_squares += number ** 2\n",
        "  return sum_of_squares\n",
        "numbers = [2, 1, 3, 1]\n",
        "result = sum_of_squares(numbers)\n",
        "print(result)"
      ],
      "metadata": {
        "colab": {
          "base_uri": "https://localhost:8080/"
        },
        "id": "rGIZm1Dcy8R-",
        "outputId": "ee473860-3f84-40d6-fe24-f642264f49fc"
      },
      "execution_count": 45,
      "outputs": [
        {
          "output_type": "stream",
          "name": "stdout",
          "text": [
            "15\n"
          ]
        }
      ]
    },
    {
      "cell_type": "code",
      "source": [
        "'''8. Write a Python program using for loop that will iterate from 1 to 15. For each\n",
        "iteration, check if the current number is odd or even, and display the message\n",
        "to the screen as odd or even. Sample input: 1….15 Sample output: 1-odd 2-\n",
        "even …. 15-odd '''"
      ],
      "metadata": {
        "colab": {
          "base_uri": "https://localhost:8080/",
          "height": 70
        },
        "id": "xdjzoDnOzdkC",
        "outputId": "02aa230f-e63b-4570-b570-bc9a49e3c1bd"
      },
      "execution_count": 46,
      "outputs": [
        {
          "output_type": "execute_result",
          "data": {
            "text/plain": [
              "'8. Write a Python program using for loop that will iterate from 1 to 15. For each\\niteration, check if the current number is odd or even, and display the message\\nto the screen as odd or even. Sample input: 1….15 Sample output: 1-odd 2-\\neven …. 15-odd '"
            ],
            "application/vnd.google.colaboratory.intrinsic+json": {
              "type": "string"
            }
          },
          "metadata": {},
          "execution_count": 46
        }
      ]
    },
    {
      "cell_type": "code",
      "source": [
        "for i in range(1, 16):\n",
        "    if i % 2 == 0:\n",
        "        print(f\"{i} - even\")\n",
        "    else:\n",
        "        print(f\"{i} - odd\")"
      ],
      "metadata": {
        "colab": {
          "base_uri": "https://localhost:8080/"
        },
        "id": "8cO8ImuqzuSM",
        "outputId": "c7907ec7-9183-4f83-92fa-1ad7bcbf9865"
      },
      "execution_count": 47,
      "outputs": [
        {
          "output_type": "stream",
          "name": "stdout",
          "text": [
            "1 - odd\n",
            "2 - even\n",
            "3 - odd\n",
            "4 - even\n",
            "5 - odd\n",
            "6 - even\n",
            "7 - odd\n",
            "8 - even\n",
            "9 - odd\n",
            "10 - even\n",
            "11 - odd\n",
            "12 - even\n",
            "13 - odd\n",
            "14 - even\n",
            "15 - odd\n"
          ]
        }
      ]
    },
    {
      "cell_type": "code",
      "source": [
        "'''9. Write a Python function to convert temperatures to and from Celsius\n",
        "Fahrenheit. [Formula: c/5=f-32/9 where c=temperature in Celsius and f=\n",
        "temperature in Fahrenheit.] Sample input: Temperature in Fahrenheit =41\n",
        "Sample output: Temperature in Celsius =5 '''"
      ],
      "metadata": {
        "colab": {
          "base_uri": "https://localhost:8080/",
          "height": 70
        },
        "id": "q3uGUyGIz8Qw",
        "outputId": "70dcd395-4efd-4fa6-b863-4b7a7813f8af"
      },
      "execution_count": 48,
      "outputs": [
        {
          "output_type": "execute_result",
          "data": {
            "text/plain": [
              "'9. Write a Python function to convert temperatures to and from Celsius\\nFahrenheit. [Formula: c/5=f-32/9 where c=temperature in Celsius and f=\\ntemperature in Fahrenheit.] Sample input: Temperature in Fahrenheit =41\\nSample output: Temperature in Celsius =5 '"
            ],
            "application/vnd.google.colaboratory.intrinsic+json": {
              "type": "string"
            }
          },
          "metadata": {},
          "execution_count": 48
        }
      ]
    },
    {
      "cell_type": "code",
      "source": [
        "def convert_temperature(fahrenheit):\n",
        "  celsius = (fahrenheit - 32) * 5 / 9\n",
        "  return celsius\n",
        "def convert_temperature_back(celsius):\n",
        "  fahrenheit = celsius * 9 / 5 + 32\n",
        "  return fahrenheit\n",
        "fahrenheit = float(input(\"Enter the temperature in Fahrenheit: \"))\n",
        "celsius = convert_temperature(fahrenheit)\n",
        "print(\"The temperature in Celsius is:\", celsius)\n",
        "fahrenheit_back = convert_temperature_back(celsius)\n",
        "print(\"The temperature in Fahrenheit is:\", fahrenheit_back)"
      ],
      "metadata": {
        "colab": {
          "base_uri": "https://localhost:8080/"
        },
        "id": "ZRU1FRl90IP9",
        "outputId": "565501fe-d277-49ac-c6f7-1413473120de"
      },
      "execution_count": 50,
      "outputs": [
        {
          "output_type": "stream",
          "name": "stdout",
          "text": [
            "Enter the temperature in Fahrenheit: 234\n",
            "The temperature in Celsius is: 112.22222222222223\n",
            "The temperature in Fahrenheit is: 234.0\n"
          ]
        }
      ]
    },
    {
      "cell_type": "code",
      "source": [
        "'''11.Case Study: Grade Calculator\n",
        "In this case study, you have to create a program that calculates the final\n",
        "grade for a student based on their scores in different assessments. The\n",
        "program will take input from the user, perform calculations, and display the\n",
        "final grade along with additional information.\n",
        "Requirements:\n",
        "1. The program should prompt the user to enter the following information:\n",
        "• Student's name\n",
        "• Number of assessments (e.g., assignments, quizzes, exams)\n",
        "• Weight (percentage) of each assessment type\n",
        "2. For each assessment type, the program should ask the user to enter:\n",
        "• Number of assessments of that type\n",
        "• Score obtained for each assessment.\n",
        "3. The program should calculate the weighted average score for each\n",
        "assessment type.\n",
        "4. The program should then calculate the final grade using the weighted\n",
        "average scores and the weights provided by the user.\n",
        "5. The program should display the following information:\n",
        "• Student's name\n",
        "• Weighted average score for each assessment type\n",
        "• Final grade\n",
        "• Letter grade based on a grading scale (e.g., A, B, C, D, F)\n",
        "6. The program should have a function to determine the letter grade based\n",
        "on the final grade.'''"
      ],
      "metadata": {
        "colab": {
          "base_uri": "https://localhost:8080/",
          "height": 175
        },
        "id": "Eh18Cn7B09Ac",
        "outputId": "e6451a60-a8e4-41ba-b3da-a17423b46d37"
      },
      "execution_count": 51,
      "outputs": [
        {
          "output_type": "execute_result",
          "data": {
            "text/plain": [
              "\"11.Case Study: Grade Calculator\\nIn this case study, you have to create a program that calculates the final\\ngrade for a student based on their scores in different assessments. The\\nprogram will take input from the user, perform calculations, and display the\\nfinal grade along with additional information.\\nRequirements:\\n1. The program should prompt the user to enter the following information:\\n• Student's name\\n• Number of assessments (e.g., assignments, quizzes, exams)\\n• Weight (percentage) of each assessment type\\n2. For each assessment type, the program should ask the user to enter:\\n• Number of assessments of that type\\n• Score obtained for each assessment.\\n3. The program should calculate the weighted average score for each\\nassessment type.\\n4. The program should then calculate the final grade using the weighted\\naverage scores and the weights provided by the user.\\n5. The program should display the following information:\\n• Student's name\\n• Weighted average score for each assessment type\\n• Final grade\\n• Letter grade based on a grading scale (e.g., A, B, C, D, F)\\n6. The program should have a function to determine the letter grade based\\non the final grade.\""
            ],
            "application/vnd.google.colaboratory.intrinsic+json": {
              "type": "string"
            }
          },
          "metadata": {},
          "execution_count": 51
        }
      ]
    },
    {
      "cell_type": "code",
      "source": [],
      "metadata": {
        "id": "qtd2XTLB2PAG"
      },
      "execution_count": 53,
      "outputs": []
    },
    {
      "cell_type": "code",
      "source": [],
      "metadata": {
        "id": "FnoPK9g82s3-"
      },
      "execution_count": null,
      "outputs": []
    }
  ]
}